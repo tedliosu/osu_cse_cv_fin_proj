{
 "cells": [
  {
   "cell_type": "markdown",
   "id": "baa00f72-2a89-4f4a-b017-323fca7e67fa",
   "metadata": {},
   "source": [
    "# Computer Vision Project - Compare Classifier Performances\n",
    "## Data Analysis of Models' Test Outputs"
   ]
  },
  {
   "cell_type": "code",
   "execution_count": 1,
   "id": "92d0f324-b5cc-40a8-b2c6-422e153b375c",
   "metadata": {},
   "outputs": [
    {
     "name": "stdout",
     "output_type": "stream",
     "text": [
      "   bacterial_blight  frogeye  healthy  soybean_rust\n",
      "0               1.0      0.0      0.0           0.0\n",
      "1               1.0      0.0      0.0           0.0\n",
      "2               1.0      0.0      0.0           0.0\n",
      "3               1.0      0.0      0.0           0.0\n",
      "4               1.0      0.0      0.0           0.0\n",
      "\n",
      "   bacterial_blight  frogeye  healthy  soybean_rust\n",
      "0               1.0      0.0      0.0           0.0\n",
      "1               1.0      0.0      0.0           0.0\n",
      "2               1.0      0.0      0.0           0.0\n",
      "3               1.0      0.0      0.0           0.0\n",
      "4               1.0      0.0      0.0           0.0\n",
      "\n",
      "   bacterial_blight  frogeye  healthy  soybean_rust\n",
      "0               1.0      0.0      0.0           0.0\n",
      "1               1.0      0.0      0.0           0.0\n",
      "2               1.0      0.0      0.0           0.0\n",
      "3               1.0      0.0      0.0           0.0\n",
      "4               0.0      0.0      0.0           1.0\n",
      "\n",
      "   bacterial_blight  frogeye  healthy  soybean_rust\n",
      "0               1.0      0.0      0.0           0.0\n",
      "1               1.0      0.0      0.0           0.0\n",
      "2               1.0      0.0      0.0           0.0\n",
      "3               1.0      0.0      0.0           0.0\n",
      "4               1.0      0.0      0.0           0.0\n",
      "\n",
      "   bacterial_blight  frogeye  healthy  soybean_rust\n",
      "0               0.0      1.0      0.0           0.0\n",
      "1               1.0      0.0      0.0           0.0\n",
      "2               0.0      0.0      0.0           1.0\n",
      "3               1.0      0.0      0.0           0.0\n",
      "4               0.0      0.0      0.0           1.0\n",
      "\n",
      "   bacterial_blight  frogeye  healthy  soybean_rust\n",
      "0               1.0      0.0      0.0           0.0\n",
      "1               1.0      0.0      0.0           0.0\n",
      "2               1.0      0.0      0.0           0.0\n",
      "3               1.0      0.0      0.0           0.0\n",
      "4               1.0      0.0      0.0           0.0\n",
      "\n",
      "   bacterial_blight  frogeye  healthy  soybean_rust\n",
      "0               1.0      0.0      0.0           0.0\n",
      "1               1.0      0.0      0.0           0.0\n",
      "2               1.0      0.0      0.0           0.0\n",
      "3               1.0      0.0      0.0           0.0\n",
      "4               1.0      0.0      0.0           0.0\n",
      "\n",
      "   bacterial_blight  frogeye  healthy  soybean_rust\n",
      "0               1.0      0.0      0.0           0.0\n",
      "1               1.0      0.0      0.0           0.0\n",
      "2               1.0      0.0      0.0           0.0\n",
      "3               1.0      0.0      0.0           0.0\n",
      "4               1.0      0.0      0.0           0.0\n",
      "\n",
      "   bacterial_blight  frogeye  healthy  soybean_rust\n",
      "0               1.0      0.0      0.0           0.0\n",
      "1               1.0      0.0      0.0           0.0\n",
      "2               1.0      0.0      0.0           0.0\n",
      "3               1.0      0.0      0.0           0.0\n",
      "4               1.0      0.0      0.0           0.0\n",
      "\n",
      "\n",
      "Are all reference dataframes equal? True True\n",
      "\n"
     ]
    }
   ],
   "source": [
    "import pandas as pd\n",
    "\n",
    "ref_test_data_lighting_altd_df = pd.read_csv(\"reference_test_data_ohe_light_altd.csv\")\n",
    "ref_test_data_lighting_unaltd_df = pd.read_csv(\"reference_test_data_ohe_light_unaltd.csv\")\n",
    "ref_test_data_lighting_unaltd_df_rohit = pd.read_csv(\"reference_test_data_ohe_light_unaltd_rohit.csv\")\n",
    "mhl_test_data_lighting_altd_df = pd.read_csv(\"manhalanobis_test_data_ohe_light_altd.csv\")\n",
    "mhl_test_data_lighting_unaltd_df = pd.read_csv(\"manhalanobis_test_data_ohe_light_unaltd.csv\")\n",
    "mhl_test_data_lighting_unaltd_df_rohit = pd.read_csv(\"manhalanobis_test_data_ohe_light_unaltd_rohit.csv\")\n",
    "rfc_test_data_lighting_altd_df = pd.read_csv(\"rfc_test_data_ohe_light_altd.csv\")\n",
    "rfc_test_data_lighting_unaltd_df = pd.read_csv(\"rfc_test_data_ohe_light_unaltd.csv\")\n",
    "rfc_test_data_lighting_unaltd_df_rohit = pd.read_csv(\"rfc_test_data_ohe_light_unaltd_rohit.csv\")\n",
    "\n",
    "# Sanity check to make sure everything was loaded correctly\n",
    "print(f\"{ref_test_data_lighting_altd_df.head()}\\n\\n{ref_test_data_lighting_unaltd_df.head()}\\n\\n\" + \\\n",
    "      f\"{mhl_test_data_lighting_altd_df.head()}\\n\\n{mhl_test_data_lighting_unaltd_df.head()}\\n\\n\" + \\\n",
    "      f\"{rfc_test_data_lighting_altd_df.head()}\\n\\n{rfc_test_data_lighting_unaltd_df.head()}\\n\\n\" + \\\n",
    "      f\"{mhl_test_data_lighting_unaltd_df_rohit.head()}\\n\\n{rfc_test_data_lighting_unaltd_df_rohit.head()}\\n\\n\" + \\\n",
    "      f\"{ref_test_data_lighting_unaltd_df_rohit.head()}\\n\")\n",
    "print(\"\\nAre all reference dataframes equal? \" + \\\n",
    "      f\"{ref_test_data_lighting_altd_df.equals(ref_test_data_lighting_unaltd_df)} \" + \\\n",
    "      f\"{ref_test_data_lighting_unaltd_df.equals(ref_test_data_lighting_unaltd_df_rohit)}\\n\")"
   ]
  },
  {
   "cell_type": "code",
   "execution_count": 2,
   "id": "ace5d3c3-fb0d-4959-a97c-061efafb50c1",
   "metadata": {},
   "outputs": [],
   "source": [
    "# Extract all classes as a list\n",
    "classes_list = ref_test_data_lighting_unaltd_df.columns.tolist()\n",
    "# Define significance threshold\n",
    "threshold_sig = 0.05"
   ]
  },
  {
   "cell_type": "code",
   "execution_count": 3,
   "id": "418b4dad-7bcc-4e35-bd67-0ffc8cfb02fa",
   "metadata": {},
   "outputs": [
    {
     "name": "stdout",
     "output_type": "stream",
     "text": [
      "Raw p-value for bacterial_blight class for Manhalanobis Classifier Vs Random Forest Classifier\n",
      "\tin unaltered lighting conditions, Yensong's Features (McNemar's Test): 0.10938\n",
      "\tSignificant difference was detected for the aforementioned class and conditions: False\n",
      "\n",
      "Raw p-value for frogeye class for Manhalanobis Classifier Vs Random Forest Classifier\n",
      "\tin unaltered lighting conditions, Yensong's Features (McNemar's Test): 1.00000\n",
      "\tSignificant difference was detected for the aforementioned class and conditions: False\n",
      "\n",
      "Raw p-value for healthy class for Manhalanobis Classifier Vs Random Forest Classifier\n",
      "\tin unaltered lighting conditions, Yensong's Features (McNemar's Test): 0.25000\n",
      "\tSignificant difference was detected for the aforementioned class and conditions: False\n",
      "\n",
      "Raw p-value for soybean_rust class for Manhalanobis Classifier Vs Random Forest Classifier\n",
      "\tin unaltered lighting conditions, Yensong's Features (McNemar's Test): 0.12500\n",
      "\tSignificant difference was detected for the aforementioned class and conditions: False\n",
      "\n"
     ]
    }
   ],
   "source": [
    "from mlxtend.evaluate import mcnemar_table, mcnemar\n",
    "import numpy as np\n",
    "\n",
    "# Classifiers Comparative Performance Before Lighting Alterations\n",
    "for targ_class in classes_list:\n",
    "    class_true_preds = ref_test_data_lighting_unaltd_df[targ_class].values\n",
    "    class_mhl_preds = mhl_test_data_lighting_unaltd_df[targ_class].values\n",
    "    class_rfc_preds = rfc_test_data_lighting_unaltd_df[targ_class].values\n",
    "    table = mcnemar_table(y_target=class_true_preds,\n",
    "                          y_model1=class_mhl_preds,\n",
    "                          y_model2=class_rfc_preds)\n",
    "    table_np = np.array(table)\n",
    "    _, p_value_unalt_light_both = mcnemar(ary=table_np, exact=True)\n",
    "    print(f\"Raw p-value for {targ_class} class for Manhalanobis Classifier Vs Random Forest Classifier\" + \\\n",
    "          \"\\n\\tin unaltered lighting conditions, Yensong's Features (McNemar's Test): \" + \\\n",
    "          f\"{p_value_unalt_light_both:.5f}\\n\" + \\\n",
    "          \"\\tSignificant difference was detected for the aforementioned class and conditions: \" + \\\n",
    "          f\"{p_value_unalt_light_both <= threshold_sig}\\n\")"
   ]
  },
  {
   "cell_type": "code",
   "execution_count": 4,
   "id": "a79bde90-7187-4570-a334-395d3b8ccec8",
   "metadata": {},
   "outputs": [
    {
     "name": "stdout",
     "output_type": "stream",
     "text": [
      "Raw p-value for bacterial_blight class for Manhalanobis Classifier; altered vs unaltered\n",
      "\tlighting conditions, Yensong's Features (McNemar's Test): 0.14600\n",
      "\tSignificant difference was detected for the aforementioned class and conditions: False\n",
      "\n",
      "Raw p-value for frogeye class for Manhalanobis Classifier; altered vs unaltered\n",
      "\tlighting conditions, Yensong's Features (McNemar's Test): 0.00258\n",
      "\tSignificant difference was detected for the aforementioned class and conditions: True\n",
      "\n",
      "Raw p-value for healthy class for Manhalanobis Classifier; altered vs unaltered\n",
      "\tlighting conditions, Yensong's Features (McNemar's Test): 0.00739\n",
      "\tSignificant difference was detected for the aforementioned class and conditions: True\n",
      "\n",
      "Raw p-value for soybean_rust class for Manhalanobis Classifier; altered vs unaltered\n",
      "\tlighting conditions, Yensong's Features (McNemar's Test): 0.22656\n",
      "\tSignificant difference was detected for the aforementioned class and conditions: False\n",
      "\n"
     ]
    }
   ],
   "source": [
    "# Manhalanobis Classifier Comparative Performance Before vs After Lighting Alterations\n",
    "for targ_class in classes_list:\n",
    "    class_true_preds = ref_test_data_lighting_altd_df[targ_class].values\n",
    "    class_mhl_light_altd_preds = mhl_test_data_lighting_altd_df[targ_class].values\n",
    "    class_mhl_light_unaltd_preds = mhl_test_data_lighting_unaltd_df[targ_class].values\n",
    "    table = mcnemar_table(y_target=class_true_preds,\n",
    "                          y_model1=class_mhl_light_altd_preds,\n",
    "                          y_model2=class_mhl_light_unaltd_preds)\n",
    "    table_np = np.array(table)\n",
    "    _, p_value_alt_light_mhl = mcnemar(ary=table_np, exact=True)\n",
    "    print(f\"Raw p-value for {targ_class} class for Manhalanobis Classifier; altered vs unaltered\" + \\\n",
    "          f\"\\n\\tlighting conditions, Yensong's Features (McNemar's Test): {p_value_alt_light_mhl:.5f}\\n\" + \\\n",
    "          \"\\tSignificant difference was detected for the aforementioned class and conditions: \" + \\\n",
    "          f\"{p_value_alt_light_mhl <= threshold_sig}\\n\")"
   ]
  },
  {
   "cell_type": "code",
   "execution_count": 5,
   "id": "e1c5e23e-4e03-4a47-9cdf-27fb831b11bc",
   "metadata": {},
   "outputs": [
    {
     "name": "stdout",
     "output_type": "stream",
     "text": [
      "Raw p-value for bacterial_blight class for Random Forest Classifier; altered vs unaltered\n",
      "\tlighting conditions, Yensong's Features (McNemar's Test): 0.00635\n",
      "\tSignificant difference was detected for the aforementioned class and conditions: True\n",
      "\n",
      "Raw p-value for frogeye class for Random Forest Classifier; altered vs unaltered\n",
      "\tlighting conditions, Yensong's Features (McNemar's Test): 0.00009\n",
      "\tSignificant difference was detected for the aforementioned class and conditions: True\n",
      "\n",
      "Raw p-value for healthy class for Random Forest Classifier; altered vs unaltered\n",
      "\tlighting conditions, Yensong's Features (McNemar's Test): 0.00342\n",
      "\tSignificant difference was detected for the aforementioned class and conditions: True\n",
      "\n",
      "Raw p-value for soybean_rust class for Random Forest Classifier; altered vs unaltered\n",
      "\tlighting conditions, Yensong's Features (McNemar's Test): 0.01273\n",
      "\tSignificant difference was detected for the aforementioned class and conditions: True\n",
      "\n"
     ]
    }
   ],
   "source": [
    "# Random Forest Classifier Comparative Performance Before vs After Lighting Alterations\n",
    "for targ_class in classes_list:\n",
    "    class_true_preds = ref_test_data_lighting_altd_df[targ_class].values\n",
    "    class_rfc_light_altd_preds = rfc_test_data_lighting_altd_df[targ_class].values\n",
    "    class_rfc_light_unaltd_preds = rfc_test_data_lighting_unaltd_df[targ_class].values\n",
    "    table = mcnemar_table(y_target=class_true_preds,\n",
    "                          y_model1=class_rfc_light_altd_preds,\n",
    "                          y_model2=class_rfc_light_unaltd_preds)\n",
    "    table_np = np.array(table)\n",
    "    _, p_value_alt_light_rfc = mcnemar(ary=table_np, exact=True)\n",
    "    print(f\"Raw p-value for {targ_class} class for Random Forest Classifier; altered vs unaltered\" + \\\n",
    "          f\"\\n\\tlighting conditions, Yensong's Features (McNemar's Test): {p_value_alt_light_rfc:.5f}\\n\" + \\\n",
    "          \"\\tSignificant difference was detected for the aforementioned class and conditions: \" + \\\n",
    "          f\"{p_value_alt_light_rfc <= threshold_sig}\\n\")"
   ]
  },
  {
   "cell_type": "code",
   "execution_count": 6,
   "id": "69c17f99-3578-44fe-b43b-a09a84fde969",
   "metadata": {},
   "outputs": [
    {
     "name": "stdout",
     "output_type": "stream",
     "text": [
      "Raw p-value for bacterial_blight class for Manhalanobis Classifier in unaltered lighting \n",
      "\tconditions, Yensong's Features vs Rohit's Features (McNemar's Test): 0.42395\n",
      "\tSignificant difference was detected for the aforementioned class and conditions: False\n",
      "\n",
      "Raw p-value for frogeye class for Manhalanobis Classifier in unaltered lighting \n",
      "\tconditions, Yensong's Features vs Rohit's Features (McNemar's Test): 0.00018\n",
      "\tSignificant difference was detected for the aforementioned class and conditions: True\n",
      "\n",
      "Raw p-value for healthy class for Manhalanobis Classifier in unaltered lighting \n",
      "\tconditions, Yensong's Features vs Rohit's Features (McNemar's Test): 0.05737\n",
      "\tSignificant difference was detected for the aforementioned class and conditions: False\n",
      "\n",
      "Raw p-value for soybean_rust class for Manhalanobis Classifier in unaltered lighting \n",
      "\tconditions, Yensong's Features vs Rohit's Features (McNemar's Test): 0.79053\n",
      "\tSignificant difference was detected for the aforementioned class and conditions: False\n",
      "\n"
     ]
    }
   ],
   "source": [
    "# Mahalanobis Classifiers Comparative Performance Before Lighting Alterations, Yensong vs Rohit Features\n",
    "for targ_class in classes_list:\n",
    "    class_true_preds = ref_test_data_lighting_unaltd_df[targ_class].values\n",
    "    class_mhl_preds = mhl_test_data_lighting_unaltd_df[targ_class].values\n",
    "    class_mhl_preds_rohit = mhl_test_data_lighting_unaltd_df_rohit[targ_class].values\n",
    "    table = mcnemar_table(y_target=class_true_preds,\n",
    "                          y_model1=class_mhl_preds,\n",
    "                          y_model2=class_mhl_preds_rohit)\n",
    "    table_np = np.array(table)\n",
    "    _, p_value_unalt_light_both_vs_feat = mcnemar(ary=table_np, exact=True)\n",
    "    print(f\"Raw p-value for {targ_class} class for Manhalanobis Classifier in unaltered lighting \" + \\\n",
    "          \"\\n\\tconditions, Yensong's Features vs Rohit's Features (McNemar's Test): \" + \\\n",
    "          f\"{p_value_unalt_light_both_vs_feat:.5f}\\n\" + \\\n",
    "          \"\\tSignificant difference was detected for the aforementioned class and conditions: \" + \\\n",
    "          f\"{p_value_unalt_light_both_vs_feat <= threshold_sig}\\n\")"
   ]
  },
  {
   "cell_type": "code",
   "execution_count": 7,
   "id": "d9ca6061-43c1-4887-a932-2f9cee5aedcd",
   "metadata": {},
   "outputs": [
    {
     "name": "stdout",
     "output_type": "stream",
     "text": [
      "Raw p-value for bacterial_blight class for Random Forest Classifier in unaltered lighting \n",
      "\tconditions, Yensong's Features vs Rohit's Features (McNemar's Test): 0.28906\n",
      "\tSignificant difference was detected for the aforementioned class and conditions: False\n",
      "\n",
      "Raw p-value for frogeye class for Random Forest Classifier in unaltered lighting \n",
      "\tconditions, Yensong's Features vs Rohit's Features (McNemar's Test): 0.04139\n",
      "\tSignificant difference was detected for the aforementioned class and conditions: True\n",
      "\n",
      "Raw p-value for healthy class for Random Forest Classifier in unaltered lighting \n",
      "\tconditions, Yensong's Features vs Rohit's Features (McNemar's Test): 0.02148\n",
      "\tSignificant difference was detected for the aforementioned class and conditions: True\n",
      "\n",
      "Raw p-value for soybean_rust class for Random Forest Classifier in unaltered lighting \n",
      "\tconditions, Yensong's Features vs Rohit's Features (McNemar's Test): 0.38770\n",
      "\tSignificant difference was detected for the aforementioned class and conditions: False\n",
      "\n"
     ]
    }
   ],
   "source": [
    "# Random Forest Classifiers Comparative Performance Before Lighting Alterations, Yensong vs Rohit Features\n",
    "for targ_class in classes_list:\n",
    "    class_true_preds = ref_test_data_lighting_unaltd_df[targ_class].values\n",
    "    class_rfc_preds = rfc_test_data_lighting_unaltd_df[targ_class].values\n",
    "    class_rfc_preds_rohit = rfc_test_data_lighting_unaltd_df_rohit[targ_class].values\n",
    "    table = mcnemar_table(y_target=class_true_preds,\n",
    "                          y_model1=class_rfc_preds,\n",
    "                          y_model2=class_rfc_preds_rohit)\n",
    "    table_np = np.array(table)\n",
    "    _, p_value_unalt_light_both_vs_feat = mcnemar(ary=table_np, exact=True)\n",
    "    print(f\"Raw p-value for {targ_class} class for Random Forest Classifier in unaltered lighting \" + \\\n",
    "          \"\\n\\tconditions, Yensong's Features vs Rohit's Features (McNemar's Test): \" + \\\n",
    "          f\"{p_value_unalt_light_both_vs_feat:.5f}\\n\" + \\\n",
    "          \"\\tSignificant difference was detected for the aforementioned class and conditions: \" + \\\n",
    "          f\"{p_value_unalt_light_both_vs_feat <= threshold_sig}\\n\")"
   ]
  }
 ],
 "metadata": {
  "kernelspec": {
   "display_name": "Python 3 (ipykernel)",
   "language": "python",
   "name": "python3"
  },
  "language_info": {
   "codemirror_mode": {
    "name": "ipython",
    "version": 3
   },
   "file_extension": ".py",
   "mimetype": "text/x-python",
   "name": "python",
   "nbconvert_exporter": "python",
   "pygments_lexer": "ipython3",
   "version": "3.12.3"
  }
 },
 "nbformat": 4,
 "nbformat_minor": 5
}
