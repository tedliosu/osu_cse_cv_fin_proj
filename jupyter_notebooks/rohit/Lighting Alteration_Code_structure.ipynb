{
 "cells": [
  {
   "cell_type": "code",
   "execution_count": 1,
   "id": "6008fa4d-6aac-43bc-9e6d-17e1c32459d5",
   "metadata": {},
   "outputs": [
    {
     "name": "stdout",
     "output_type": "stream",
     "text": [
      "✅ All images processed and saved with lighting variations.\n"
     ]
    }
   ],
   "source": [
    "import os\n",
    "import random\n",
    "import numpy as np\n",
    "from skimage import io\n",
    "from skimage.color import rgba2rgb\n",
    "from skimage.util import img_as_ubyte\n",
    "\n",
    "# PATHS \n",
    "input_root = r'C:\\Users\\anand.252\\OneDrive - The Ohio State University\\OSU\\Summer 2025\\Computer Vision\\Group Project\\Disease Project\\imgs_with_good_background'\n",
    "output_root = r'C:\\Users\\anand.252\\OneDrive - The Ohio State University\\OSU\\Summer 2025\\Computer Vision\\Group Project\\Disease Project\\rohit_lighting_altered'\n",
    "\n",
    "# Lighting simulation parameters \n",
    "gen_seed = 34352\n",
    "lower_frac = 0.5\n",
    "upper_frac = 1.5\n",
    "switch_frac_threshold = 1.0\n",
    "min_ambient_frac = 0.03\n",
    "\n",
    "sun_horz_lighting_color_vec = np.array([1.0, 0.81, 0.65]).reshape(1, 1, 3)\n",
    "noon_lighting_color_vec = np.array([1.0, 0.96, 0.93]).reshape(1, 1, 3)\n",
    "\n",
    "random.seed(gen_seed)\n",
    "\n",
    "# Traverse and process all images \n",
    "for root, _, files in os.walk(input_root):\n",
    "    for fname in files:\n",
    "        if fname.lower().endswith((\".jpg\", \".jpeg\", \".png\")):\n",
    "            input_path = os.path.join(root, fname)\n",
    "\n",
    "            try:\n",
    "                img = io.imread(input_path)\n",
    "\n",
    "                if img.ndim == 2:  # Grayscale\n",
    "                    print(f\"Skipping grayscale image: {input_path}\")\n",
    "                    continue\n",
    "                elif img.shape[-1] == 4:  # RGBA to RGB\n",
    "                    img = rgba2rgb(img)\n",
    "\n",
    "                # Normalize\n",
    "                img_raw_normed = img.astype(np.float64) / 255.0\n",
    "\n",
    "                # Lighting modification\n",
    "                selected_intensity_frac = random.uniform(lower_frac, upper_frac)\n",
    "                if selected_intensity_frac >= switch_frac_threshold:\n",
    "                    res_img_raw = (\n",
    "                        selected_intensity_frac * noon_lighting_color_vec * img_raw_normed\n",
    "                        + min_ambient_frac * noon_lighting_color_vec\n",
    "                    )\n",
    "                else:\n",
    "                    res_img_raw = (\n",
    "                        selected_intensity_frac * sun_horz_lighting_color_vec * img_raw_normed\n",
    "                    )\n",
    "\n",
    "                # Final image conversion\n",
    "                fin_procd_img = np.round(np.clip(res_img_raw, 0.0, 1.0) * 255.0).astype(np.uint8)\n",
    "\n",
    "                # Compute relative path and save\n",
    "                rel_path = os.path.relpath(input_path, input_root)\n",
    "                rel_path_png = os.path.splitext(rel_path)[0] + \".png\"\n",
    "                output_path = os.path.join(output_root, rel_path_png)\n",
    "\n",
    "                os.makedirs(os.path.dirname(output_path), exist_ok=True)\n",
    "                io.imsave(output_path, fin_procd_img)\n",
    "\n",
    "            except Exception as e:\n",
    "                print(f\"❌ Error processing {input_path}: {e}\")\n",
    "\n",
    "print(\"✅ All images processed and saved with lighting variations.\")"
   ]
  },
  {
   "cell_type": "code",
   "execution_count": null,
   "id": "b8840019-104d-4ff0-8e0f-1b4f2064ed11",
   "metadata": {},
   "outputs": [],
   "source": []
  }
 ],
 "metadata": {
  "kernelspec": {
   "display_name": "Python 3 (ipykernel)",
   "language": "python",
   "name": "python3"
  },
  "language_info": {
   "codemirror_mode": {
    "name": "ipython",
    "version": 3
   },
   "file_extension": ".py",
   "mimetype": "text/x-python",
   "name": "python",
   "nbconvert_exporter": "python",
   "pygments_lexer": "ipython3",
   "version": "3.12.7"
  }
 },
 "nbformat": 4,
 "nbformat_minor": 5
}
